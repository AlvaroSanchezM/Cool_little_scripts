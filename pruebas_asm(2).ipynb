{
 "cells": [
  {
   "cell_type": "code",
   "execution_count": 115,
   "metadata": {},
   "outputs": [
    {
     "name": "stdout",
     "output_type": "stream",
     "text": [
      "\n",
      "Chunk [0,0] to [2,5]\n",
      "-----------------------------\n",
      "         0      1      2      3      4      5  │ Sum\n",
      "-----------------------------\n",
      "     0|      0      0      1     10     11    100 │ 10\n",
      "     1|      0      0     10      1    100     11 │ 10\n",
      "     2|      1     10      0      0    101    110 │ 14\n",
      "-----------------------------\n",
      "Sum       1      2      3      3     12     13 │ 34\n",
      "34\n"
     ]
    }
   ],
   "source": [
    "def print_xor_matrix_chunks(n: int, m: int, l: int, chunk_size: int = 5):\n",
    "    def print_horizontal_border(width):\n",
    "        print('-'+\"-\" * (width * 4 + 4))\n",
    "\n",
    "    def print_chunk(start_row, start_col, end_row, end_col):\n",
    "        trtr=0\n",
    "        # Header for columns\n",
    "        print(\"\\nChunk [{},{}] to [{},{}]\".format(start_row, start_col, end_row-1, end_col-1))\n",
    "        print_horizontal_border((end_col - start_col))\n",
    "        \n",
    "        # Column numbers\n",
    "        print(\"    \", end=\"\")\n",
    "        for j in range(start_col, end_col):\n",
    "            print(f\"{j:6}\", end=\" \")\n",
    "        print(\" │ Sum\")\n",
    "        print_horizontal_border((end_col - start_col))\n",
    "        \n",
    "        # Matrix values with row sums\n",
    "        for i in range(start_row, end_row):\n",
    "            print(f\"{i:6}|\", end=\" \")\n",
    "            row_sum = 0\n",
    "            for j in range(start_col, end_col):\n",
    "                val = max(0, (i ^ j) - l)\n",
    "                value = int(str(bin(val)).lstrip('0').lstrip('b'))\n",
    "                row_sum += val\n",
    "                print(f\"{value:6}\", end=\" \")\n",
    "            print(f\"│ {row_sum}\")\n",
    "        \n",
    "        # Column sums\n",
    "        print_horizontal_border((end_col - start_col))\n",
    "        print(\"Sum  \", end=\"\")\n",
    "        col_sums = []\n",
    "        for j in range(start_col, end_col):\n",
    "            col_sum = sum(max(0, (i ^ j) - l) for i in range(start_row, end_row))\n",
    "            col_sums.append(col_sum)\n",
    "            print(f\"{col_sum:6}\", end=\" \")\n",
    "            trtr = sum(col_sums)\n",
    "        print(f\"│ {sum(col_sums)}\")\n",
    "        return trtr\n",
    "\n",
    "    # Process matrix in chunks\n",
    "    for i in range(0, n, chunk_size):\n",
    "        for j in range(0, m, chunk_size):\n",
    "            end_row = min(i + chunk_size, n)\n",
    "            end_col = min(j + chunk_size, m)\n",
    "            trtr = print_chunk(i, j, end_row, end_col)\n",
    "\n",
    "    return trtr\n",
    "\n",
    "# Example usage\n",
    "if __name__ == \"__main__\":\n",
    "    n, m, l = 3,6,1  # Example dimensions and limit\n",
    "    chunk_size = max(m,n)     # Size of chunks to display\n",
    "    t = print_xor_matrix_chunks(n, m, l, chunk_size)\n",
    "    re = 2345\n",
    "    print(t%re)"
   ]
  },
  {
   "cell_type": "code",
   "execution_count": 31,
   "metadata": {},
   "outputs": [
    {
     "name": "stdout",
     "output_type": "stream",
     "text": [
      "11001    25\n",
      "11111    31\n",
      "    0\n",
      "10111010010101    11925\n"
     ]
    }
   ],
   "source": [
    "x = [25,31,0,11925]\n",
    "for i in x:\n",
    "    print(f'{str(bin(i)).lstrip(\"0b\")}    {i}')"
   ]
  },
  {
   "cell_type": "code",
   "execution_count": 98,
   "metadata": {},
   "outputs": [
    {
     "name": "stdout",
     "output_type": "stream",
     "text": [
      "ni = 5, mi = 3, s = ni*mi*1+0+0=15, t = 15\n",
      "ni = 4, mi = 2, s = ni*mi*2+0+0=16, t = 31\n",
      "ni = 6, mi = 2, s = ni*mi*4+2+2=48, t = 79\n",
      "ni = 2, mi = 4, s = ni*mi*8+2+4=64, t = 143\n"
     ]
    }
   ],
   "source": [
    "import math\n",
    "n = 23543475656\n",
    "\n",
    "# x = str(bin(n)).lstrip('0').lstrip('b')\n",
    "# kl = len(x)\n",
    "# print(x)\n",
    "# print(kl)\n",
    "n = 10\n",
    "m = 6\n",
    "t = 0\n",
    "kl=math.ceil(math.log2(n))\n",
    "for i in range(kl):\n",
    "    r=max(2**i,1)\n",
    "    rp=max(2**(i+1),2)\n",
    "    rm=max(2**(i-1),0)\n",
    "    ni=math.floor(n/rp)*r + min(n%r,rm)\n",
    "    mi =math.floor(m/rp)*r + min(m%r,rm)\n",
    "    s = ni*mi*r\n",
    "    t = t + s\n",
    "    print(f'ni = {ni}, mi = {mi}, s = ni*mi*{r}+{min(n%r,rm)}+{min(m%r,rm)}={s}, t = {t}')"
   ]
  },
  {
   "cell_type": "code",
   "execution_count": 83,
   "metadata": {},
   "outputs": [
    {
     "name": "stdout",
     "output_type": "stream",
     "text": [
      "0\n",
      "224\n"
     ]
    }
   ],
   "source": [
    "def calculate_xor_sum(n: int, m: int, l: int) -> int:\n",
    "    def bit_length(x): return len(bin(x)) - 2\n",
    "    \n",
    "    # Find largest power of 2 that divides number\n",
    "    def largest_power2_divisor(x):\n",
    "        return x & (-x)\n",
    "    \n",
    "    # Calculate sum for complete periods\n",
    "    max_bits = max(bit_length(n-1), bit_length(m-1))\n",
    "    period = 1 << max_bits\n",
    "    \n",
    "    # Calculate full blocks\n",
    "    full_rows = n // period\n",
    "    full_cols = m // period\n",
    "    rem_rows = n % period\n",
    "    rem_cols = m % period\n",
    "    \n",
    "    # Calculate base sum for a complete period block\n",
    "    block_sum = (period * period * (period - 1)) // 2\n",
    "    \n",
    "    # Total from full blocks\n",
    "    total = block_sum * full_rows * full_cols\n",
    "    \n",
    "    # Add remainders using bit arithmetic\n",
    "    if rem_rows:\n",
    "        total += (rem_rows * rem_cols * (rem_rows + rem_cols - 1)) // 2\n",
    "        \n",
    "    # Subtract threshold l where needed\n",
    "    total -= max(0, l) * n * m\n",
    "    \n",
    "    return max(0, total)\n",
    "def elder_age(m, n, l, t):\n",
    "    return calculate_xor_sum(m,n,l)%t\n",
    "print(elder_age(8,5,1,100))\n",
    "print(elder_age(8,8,0,100007))"
   ]
  },
  {
   "cell_type": "code",
   "execution_count": null,
   "metadata": {},
   "outputs": [],
   "source": [
    "def elder_age(m, n, l, t):\n",
    "    res = 0\n",
    "    bin_m = bin(max(m-l,0)).lstrip('0').lstrip('b')\n",
    "    bin_n = bin(max(n-l,0)).lstrip('0').lstrip('b')\n",
    "    #bin_l = str(bin(l)).lstrip('0').lstrip('b')\n",
    "    kl = len(max(bin_m,bin_n))\n",
    "    # get type of matrix\n",
    "    x = max(n,m)\n",
    "    y = min(n,m)\n",
    "    if x // 2 >= y:\n",
    "        # 1s in (x-x//2)*y, rest 0s\n",
    "        d=0\n",
    "    else:\n",
    "        # 1s in (x-x//2)*y or also in (y-y//2)*x\n",
    "        d =0\n",
    "\n",
    "\n",
    "    if n // 2 >= m:\n",
    "        # 1s in (n-n//2)*m, rest 0s\n",
    "        dum = 0\n",
    "    elif m//2>=n:\n",
    "        # 1s in (m-m//2)*n, rest 0s\n",
    "        dum = 0\n",
    "    else:\n",
    "        # 1s in (n-n//2)*m or also in (m-m//2)*n\n",
    "        dum = 0\n",
    "\n",
    "\n",
    "    if kl > 60:\n",
    "        dummy = 0\n",
    "        # Must break the numbers into 2 chunks, resulting in 4 chunks (at most) in the matrix\n",
    "    else:\n",
    "        for i in range(kl,0,-1):\n",
    "            pot = 2**i\n",
    "            # l = 0\n",
    "            # m, n, = '0', '0'\n",
    "            ni2 = 0 # int(n)\n",
    "            mi2 = 0 # int(m)\n",
    "            # get the relevant bit\n",
    "            # if len(bin_l)>=i:\n",
    "            #     l = int(bin_l[i-1])\n",
    "            if len(bin_n)>=i:\n",
    "                nb = bin_n[i-1]\n",
    "                ni2= int(n)\n",
    "            if len(bin_m)>=i:\n",
    "                mb = bin_m[i-1]\n",
    "                mi2 = int(m)\n",
    "            # get the shape of the cuts in the matrix\n",
    "            ni10 = 0\n",
    "            mi10 = 0\n",
    "            if nb == '1':\n",
    "                ni10 += 1\n",
    "            if mb == '1':\n",
    "                mi10 += 1\n",
    "                \n",
    "            \n",
    "                 \n",
    "        \n",
    "    return res%t"
   ]
  },
  {
   "cell_type": "code",
   "execution_count": null,
   "metadata": {},
   "outputs": [],
   "source": [
    "intentos = [\n",
    "    ['m','n','l','t','res'],\n",
    "    [214, 451, 16, 24767, 642],\n",
    "    [206, 142, 10, 697, 128]\n",
    "]"
   ]
  },
  {
   "cell_type": "code",
   "execution_count": 97,
   "metadata": {},
   "outputs": [
    {
     "name": "stdout",
     "output_type": "stream",
     "text": [
      "111\n"
     ]
    }
   ],
   "source": [
    "i = 7\n",
    "print(bin(i).lstrip('0').lstrip('b'))"
   ]
  },
  {
   "cell_type": "code",
   "execution_count": 117,
   "metadata": {},
   "outputs": [
    {
     "name": "stdout",
     "output_type": "stream",
     "text": [
      "Último resultado: 200867255532373784508079475991465510288621850083311583493885\n",
      "Tiempo total: 1.2093 segundos\n",
      "100\n",
      "224\n"
     ]
    }
   ],
   "source": [
    "def bit_count_up_to(x, bit):\n",
    "    # Cuenta cuántos números menores a x tienen el bit 'bit' prendido\n",
    "    block = 1 << (bit + 1)\n",
    "    full_blocks = x // block\n",
    "    rem = x % block\n",
    "    return full_blocks * (1 << bit) + max(0, rem - (1 << bit))\n",
    "\n",
    "def xor_sum(n, m):\n",
    "    # Calcula la suma de todos los i ^ j para 0 <= i < n, 0 <= j < m\n",
    "    total = 0\n",
    "    max_bit = max(n.bit_length(), m.bit_length())\n",
    "    for k in range(max_bit):\n",
    "        ones_in_n = bit_count_up_to(n, k)\n",
    "        zeros_in_n = n - ones_in_n\n",
    "        ones_in_m = bit_count_up_to(m, k)\n",
    "        zeros_in_m = m - ones_in_m\n",
    "        # Cada par con bit k diferente suma 1 << k al total\n",
    "        count = ones_in_n * zeros_in_m + zeros_in_n * ones_in_m\n",
    "        total += count * (1 << k)\n",
    "    return total\n",
    "\n",
    "def calculate_sum(n, m, l):\n",
    "    return xor_sum(n, m) - n * m * l\n",
    "\n",
    "def run_simulation(n, m, l, times=15000):\n",
    "    from time import time\n",
    "    start = time()\n",
    "    for _ in range(times):\n",
    "        result = calculate_sum(n, m, l)\n",
    "    end = time()\n",
    "    print(f\"Último resultado: {result}\")\n",
    "    print(f\"Tiempo total: {end - start:.4f} segundos\")\n",
    "\n",
    "# Ejemplo de entrada\n",
    "n = 2**66 + 10\n",
    "m = 2**66 + 5\n",
    "l = 10\n",
    "\n",
    "run_simulation(n, m, l)\n",
    "\n",
    "def elder_age(m, n, l, t):\n",
    "    return calculate_sum(n, m, l)%t\n",
    "print(elder_age(8,5,1,100000))\n",
    "print(elder_age(8,8,0,100007))\n"
   ]
  }
 ],
 "metadata": {
  "kernelspec": {
   "display_name": ".venv",
   "language": "python",
   "name": "python3"
  },
  "language_info": {
   "codemirror_mode": {
    "name": "ipython",
    "version": 3
   },
   "file_extension": ".py",
   "mimetype": "text/x-python",
   "name": "python",
   "nbconvert_exporter": "python",
   "pygments_lexer": "ipython3",
   "version": "3.9.12"
  }
 },
 "nbformat": 4,
 "nbformat_minor": 2
}
