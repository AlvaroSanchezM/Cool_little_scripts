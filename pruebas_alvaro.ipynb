{
 "cells": [
  {
   "cell_type": "code",
   "execution_count": 1,
   "metadata": {},
   "outputs": [
    {
     "data": {
      "text/plain": [
       "4"
      ]
     },
     "execution_count": 1,
     "metadata": {},
     "output_type": "execute_result"
    }
   ],
   "source": [
    "max(1,4)"
   ]
  },
  {
   "cell_type": "code",
   "execution_count": 5,
   "metadata": {},
   "outputs": [
    {
     "name": "stdout",
     "output_type": "stream",
     "text": [
      "H char\n",
      "E char\n",
      "O char\n",
      "O char\n",
      "L char\n",
      "o char\n",
      "w char\n",
      "w char\n",
      "w char\n"
     ]
    }
   ],
   "source": [
    "for char in 'HEOOLowww':\n",
    "    print(f'{char} char')\n",
    "    #print(index)"
   ]
  },
  {
   "cell_type": "code",
   "execution_count": 7,
   "metadata": {},
   "outputs": [
    {
     "name": "stdout",
     "output_type": "stream",
     "text": [
      "False\n"
     ]
    }
   ],
   "source": [
    "def to_row_echelon(matrix):\n",
    "    rows = len(matrix)\n",
    "    cols = len(matrix[0])\n",
    "    lead = 0\n",
    "    \n",
    "    # Deep copy matrix\n",
    "    M = [[matrix[i][j] for j in range(cols)] for i in range(rows)]\n",
    "    \n",
    "    for r in range(rows):\n",
    "        if lead >= cols:\n",
    "            break\n",
    "            \n",
    "        i = r\n",
    "        while M[i][lead] == 0:\n",
    "            i += 1\n",
    "            if i == rows:\n",
    "                i = r\n",
    "                lead += 1\n",
    "                if lead == cols:\n",
    "                    return M\n",
    "                    \n",
    "        # Swap rows\n",
    "        if i != r:\n",
    "            M[i], M[r] = M[r], M[i]\n",
    "            \n",
    "        # Scale row\n",
    "        lv = M[r][lead]\n",
    "        if lv != 0:\n",
    "            M[r] = [mrx / float(lv) for mrx in M[r]]\n",
    "            \n",
    "        # Eliminate column\n",
    "        for i in range(rows):\n",
    "            if i != r:\n",
    "                lv = M[i][lead]\n",
    "                M[i] = [iv - lv*rv for rv, iv in zip(M[r], M[i])]\n",
    "                \n",
    "        lead += 1\n",
    "    return M\n",
    "\n",
    "def is_linearly_independent(matrix):\n",
    "    # Get row echelon form\n",
    "    ref = to_row_echelon(matrix)\n",
    "    rows = len(matrix)\n",
    "    \n",
    "    # Count non-zero rows\n",
    "    rank = 0\n",
    "    for row in ref:\n",
    "        if any(x != 0 for x in row):\n",
    "            rank += 1\n",
    "            \n",
    "    return rank == rows\n",
    "\n",
    "# Example usage:\n",
    "matrix = [\n",
    "    [2,1,4,3],       \n",
    "    [3,4,1,2],       \n",
    "    [4,2,3,1],\n",
    "    [1,3,2,4]\n",
    "]\n",
    "print(is_linearly_independent(matrix))"
   ]
  },
  {
   "cell_type": "code",
   "execution_count": 10,
   "metadata": {},
   "outputs": [
    {
     "name": "stdout",
     "output_type": "stream",
     "text": [
      "['Open', 'Open', 'Open', 'Senior']\n"
     ]
    }
   ],
   "source": [
    "def open_or_senior(data):\n",
    "    res = []\n",
    "    for player in data:\n",
    "        age = player[0]\n",
    "        handicap = player[1]\n",
    "        if age > 55 and handicap > 7:\n",
    "            res.append('Senior')\n",
    "        else:\n",
    "            res.append('Open')\n",
    "    return res\n",
    "print(open_or_senior([(45, 12),(55,21),(19, -2),(104, 20)]))"
   ]
  },
  {
   "cell_type": "code",
   "execution_count": 19,
   "metadata": {},
   "outputs": [
    {
     "name": "stdout",
     "output_type": "stream",
     "text": [
      "0, x=200, no subtracted 2\n",
      "00, x=200, no subtracted 4\n",
      "000, x=200, no subtracted 8\n",
      "1000, x=192, yes subtracted 16\n",
      "01000, x=192, no subtracted 32\n",
      "001000, x=192, no subtracted 64\n",
      "1001000, x=128, yes subtracted 128\n",
      "11001000, x=0, yes subtracted 256\n"
     ]
    },
    {
     "data": {
      "text/plain": [
       "6"
      ]
     },
     "execution_count": 19,
     "metadata": {},
     "output_type": "execute_result"
    }
   ],
   "source": [
    "x = 200\n",
    "res = ''\n",
    "p = 1\n",
    "while x > 0:\n",
    "    if x % (2**p):\n",
    "        x=x-2**(p-1)\n",
    "        res = '1'+res\n",
    "        msg = 'yes'\n",
    "    else:\n",
    "        res = '0'+res\n",
    "        msg='no'\n",
    "    p += 1\n",
    "    print(f'{res}, x={x}, {msg} subtracted {2**(p-1)}')\n",
    "sum([1,2,3])"
   ]
  },
  {
   "cell_type": "code",
   "execution_count": 18,
   "metadata": {},
   "outputs": [
    {
     "name": "stdout",
     "output_type": "stream",
     "text": [
      "[2, 3, 4, 5, 6]\n"
     ]
    }
   ],
   "source": [
    "x = [1,2,3,4,5,6]\n",
    "x.remove(1)\n",
    "print(x)"
   ]
  },
  {
   "cell_type": "code",
   "execution_count": 20,
   "metadata": {},
   "outputs": [
    {
     "data": {
      "text/plain": [
       "True"
      ]
     },
     "execution_count": 20,
     "metadata": {},
     "output_type": "execute_result"
    }
   ],
   "source": [
    "stin='[]{}()'\n",
    "def valid_braces(string):\n",
    "    curly = 0\n",
    "    brack = 0\n",
    "    paren = 0\n",
    "    for char in string:\n",
    "        \n",
    "        if char == '(':\n",
    "                paren += 1\n",
    "        if char == ')':\n",
    "                paren -= 1\n",
    "        if char == '[':\n",
    "                brack += 1\n",
    "        if char == ']':\n",
    "                brack -= 1\n",
    "        if char == '{':\n",
    "                curly += 1\n",
    "        if char == '}':\n",
    "                curly -= 1\n",
    "        if curly < 0 or brack < 0 or paren < 0:\n",
    "            return False\n",
    "    #print(f'{curly}, {brack}, {paren}')\n",
    "    return not(paren or curly or brack)\n",
    "valid_braces('[(])')"
   ]
  },
  {
   "cell_type": "code",
   "execution_count": 22,
   "metadata": {},
   "outputs": [
    {
     "name": "stdout",
     "output_type": "stream",
     "text": [
      "[]{}(): True\n",
      "[{()}]: True\n",
      "({[}): False\n",
      "((()): False\n",
      "[(]): False\n",
      "(): True\n"
     ]
    }
   ],
   "source": [
    "def is_valid_brackets(s: str) -> bool:\n",
    "    stack = []\n",
    "    brackets = {')': '(', '}': '{', ']': '['}\n",
    "    \n",
    "    for char in s:\n",
    "        if char in '({[':\n",
    "            stack.append(char)\n",
    "        elif char in ')}]':\n",
    "            if not stack:\n",
    "                return False\n",
    "            if stack.pop() != brackets[char]:\n",
    "                return False\n",
    "    \n",
    "    return len(stack) == 0\n",
    "\n",
    "# Test cases\n",
    "test_cases = [\n",
    "    \"[]{}()\",      # True\n",
    "    \"[{()}]\",      # True\n",
    "    \"({[})\",       # False\n",
    "    \"((())\",       # False\n",
    "    \"[(])\",            # False\n",
    "    \"()\"\n",
    "]\n",
    "\n",
    "for test in test_cases:\n",
    "    print(f\"{test}: {is_valid_brackets(test)}\")"
   ]
  },
  {
   "cell_type": "code",
   "execution_count": 33,
   "metadata": {},
   "outputs": [
    {
     "name": "stdout",
     "output_type": "stream",
     "text": [
      "{'r': 1, 'p': 1, 'b': 1, 's': 3, 'f': 4, 'e': 1, 'i': 1, 'l': 1, 'd': 3, 'g': 1, 'v': 2, 'n': 1}\n"
     ]
    }
   ],
   "source": [
    "stri='fgdslrefvsdfnbipvfds'\n",
    "dic = dict.fromkeys(set(stri))\n",
    "for char in stri:\n",
    "    if dic[char] == None:\n",
    "        dic[char] = 1\n",
    "    else:\n",
    "        dic[char] += 1\n",
    "print(dic)\n"
   ]
  },
  {
   "cell_type": "code",
   "execution_count": 2,
   "metadata": {},
   "outputs": [
    {
     "name": "stdout",
     "output_type": "stream",
     "text": [
      "['g']\n"
     ]
    }
   ],
   "source": [
    "i = {'a':['b','c'], 'd':['e','f'], 'g':['h','i']}\n",
    "pre = [key for key, val in i.items() if val.__contains__('h')]\n",
    "print(pre)"
   ]
  },
  {
   "cell_type": "code",
   "execution_count": 6,
   "metadata": {},
   "outputs": [],
   "source": [
    "class RomanNumerals:\n",
    "    \n",
    "    _1s = ['I','X','C','M']\n",
    "    \n",
    "    @staticmethod\n",
    "    def to_roman(val : int) -> str:\n",
    "        u = ['I','V']\n",
    "        d = ['X','L']\n",
    "        c = ['C','D']\n",
    "        m = ['M']\n",
    "        letters = [u,d,c,m]\n",
    "        units = max(val%10,0)\n",
    "        decs = max((val-units)%100,0)\n",
    "        cents = max((val-units-decs)%1000,0)\n",
    "        mils = max(val-units-decs-mils,0)\n",
    "        list_quants = [units, decs, cents, mils]\n",
    "        result = ''\n",
    "        for i in range(4):\n",
    "            item = list_quants[i] // (10 ** i)\n",
    "            print(item)\n",
    "            sub = ''\n",
    "            five = ''\n",
    "            ones = ''\n",
    "            if item % 5 == 4:# IX IV\n",
    "                sub = letters[i][0]\n",
    "                if item > 5:#9 - I X \n",
    "                    five = letters[i+1][0] #[key for key, val in subtracting.items() if val.__contains__([key for key, val in subtracting.items() if val==item*(10**i)])]\n",
    "                else:#4 - I V\n",
    "                    five = letters[i][1]\n",
    "            else:\n",
    "                if item > 4:# V\n",
    "                    five = letters[i][1]\n",
    "                ones = letters[i][0]*(item%5)\n",
    "            result = pre+five+ones+result\n",
    "        return result\n",
    "\n",
    "    @staticmethod\n",
    "    def from_roman(roman_num : str) -> int:\n",
    "        ref = {\n",
    "            'I':1,'V':5,'X':10,'L':50,'C':100,'D':500,'M':1000\n",
    "        }\n",
    "        subtracting = {\n",
    "            'C':['M','D'],'X':['C','L'],'I':['X','V']\n",
    "        }\n",
    "        for i in range(len(str)-1,-1,-1):\n",
    "            print(i)\n",
    "            letter = str[i]\n",
    "            quant = ref[letter]\n",
    "            sign = +1\n",
    "            if i < len(str)-2:\n",
    "                pre_letter = str[i+1]\n",
    "                if pre_letter in subtracting[letter]:\n",
    "                    sign = -1\n",
    "            res = res + quant*sign\n",
    "        return res\n",
    "    \n"
   ]
  },
  {
   "cell_type": "code",
   "execution_count": 7,
   "metadata": {},
   "outputs": [
    {
     "ename": "UnboundLocalError",
     "evalue": "local variable 'mils' referenced before assignment",
     "output_type": "error",
     "traceback": [
      "\u001b[1;31m---------------------------------------------------------------------------\u001b[0m",
      "\u001b[1;31mUnboundLocalError\u001b[0m                         Traceback (most recent call last)",
      "Cell \u001b[1;32mIn[7], line 20\u001b[0m\n\u001b[0;32m     17\u001b[0m     do_test(\u001b[38;5;124m'\u001b[39m\u001b[38;5;124mMMVIII\u001b[39m\u001b[38;5;124m'\u001b[39m, \u001b[38;5;241m2008\u001b[39m)\n\u001b[0;32m     18\u001b[0m     do_test(\u001b[38;5;124m'\u001b[39m\u001b[38;5;124mMDCLXVI\u001b[39m\u001b[38;5;124m'\u001b[39m, \u001b[38;5;241m1666\u001b[39m)\n\u001b[1;32m---> 20\u001b[0m \u001b[43mfixed_tests_to\u001b[49m\u001b[43m(\u001b[49m\u001b[43m)\u001b[49m\n\u001b[0;32m     21\u001b[0m fixed_tests_from()\n",
      "Cell \u001b[1;32mIn[7], line 7\u001b[0m, in \u001b[0;36mfixed_tests_to\u001b[1;34m()\u001b[0m\n\u001b[0;32m      6\u001b[0m \u001b[38;5;28;01mdef\u001b[39;00m\u001b[38;5;250m \u001b[39m\u001b[38;5;21mfixed_tests_to\u001b[39m():\n\u001b[1;32m----> 7\u001b[0m     \u001b[43mdo_test\u001b[49m\u001b[43m(\u001b[49m\u001b[38;5;241;43m1000\u001b[39;49m\u001b[43m,\u001b[49m\u001b[43m \u001b[49m\u001b[38;5;124;43m'\u001b[39;49m\u001b[38;5;124;43mM\u001b[39;49m\u001b[38;5;124;43m'\u001b[39;49m\u001b[43m)\u001b[49m\n\u001b[0;32m      8\u001b[0m     do_test(\u001b[38;5;241m4\u001b[39m, \u001b[38;5;124m'\u001b[39m\u001b[38;5;124mIV\u001b[39m\u001b[38;5;124m'\u001b[39m)\n\u001b[0;32m      9\u001b[0m     do_test(\u001b[38;5;241m1\u001b[39m, \u001b[38;5;124m'\u001b[39m\u001b[38;5;124mI\u001b[39m\u001b[38;5;124m'\u001b[39m)\n",
      "Cell \u001b[1;32mIn[7], line 3\u001b[0m, in \u001b[0;36mdo_test\u001b[1;34m(input, expected)\u001b[0m\n\u001b[0;32m      1\u001b[0m \u001b[38;5;28;01mdef\u001b[39;00m\u001b[38;5;250m \u001b[39m\u001b[38;5;21mdo_test\u001b[39m(\u001b[38;5;28minput\u001b[39m, expected):\n\u001b[0;32m      2\u001b[0m     func \u001b[38;5;241m=\u001b[39m RomanNumerals\u001b[38;5;241m.\u001b[39mto_roman \u001b[38;5;28;01mif\u001b[39;00m \u001b[38;5;28mtype\u001b[39m(\u001b[38;5;28minput\u001b[39m) \u001b[38;5;129;01mis\u001b[39;00m \u001b[38;5;28mint\u001b[39m \u001b[38;5;28;01melse\u001b[39;00m RomanNumerals\u001b[38;5;241m.\u001b[39mfrom_roman\n\u001b[1;32m----> 3\u001b[0m     actual \u001b[38;5;241m=\u001b[39m \u001b[43mfunc\u001b[49m\u001b[43m(\u001b[49m\u001b[38;5;28;43minput\u001b[39;49m\u001b[43m)\u001b[49m\n\u001b[0;32m      4\u001b[0m     test\u001b[38;5;241m.\u001b[39massert_equals(actual, expected, \u001b[38;5;124mf\u001b[39m\u001b[38;5;124m'\u001b[39m\u001b[38;5;124mtesting \u001b[39m\u001b[38;5;132;01m{\u001b[39;00mfunc\u001b[38;5;241m.\u001b[39m\u001b[38;5;18m__name__\u001b[39m\u001b[38;5;132;01m}\u001b[39;00m\u001b[38;5;124m, for input \u001b[39m\u001b[38;5;132;01m{\u001b[39;00m\u001b[38;5;28minput\u001b[39m\u001b[38;5;132;01m}\u001b[39;00m\u001b[38;5;130;01m\\n\u001b[39;00m\u001b[38;5;124m'\u001b[39m)\n",
      "Cell \u001b[1;32mIn[6], line 15\u001b[0m, in \u001b[0;36mRomanNumerals.to_roman\u001b[1;34m(val)\u001b[0m\n\u001b[0;32m     13\u001b[0m decs \u001b[38;5;241m=\u001b[39m \u001b[38;5;28mmax\u001b[39m((val\u001b[38;5;241m-\u001b[39munits)\u001b[38;5;241m%\u001b[39m\u001b[38;5;241m100\u001b[39m,\u001b[38;5;241m0\u001b[39m)\n\u001b[0;32m     14\u001b[0m cents \u001b[38;5;241m=\u001b[39m \u001b[38;5;28mmax\u001b[39m((val\u001b[38;5;241m-\u001b[39munits\u001b[38;5;241m-\u001b[39mdecs)\u001b[38;5;241m%\u001b[39m\u001b[38;5;241m1000\u001b[39m,\u001b[38;5;241m0\u001b[39m)\n\u001b[1;32m---> 15\u001b[0m mils \u001b[38;5;241m=\u001b[39m \u001b[38;5;28mmax\u001b[39m(val\u001b[38;5;241m-\u001b[39munits\u001b[38;5;241m-\u001b[39mdecs\u001b[38;5;241m-\u001b[39m\u001b[43mmils\u001b[49m,\u001b[38;5;241m0\u001b[39m)\n\u001b[0;32m     16\u001b[0m list_quants \u001b[38;5;241m=\u001b[39m [units, decs, cents, mils]\n\u001b[0;32m     17\u001b[0m result \u001b[38;5;241m=\u001b[39m \u001b[38;5;124m'\u001b[39m\u001b[38;5;124m'\u001b[39m\n",
      "\u001b[1;31mUnboundLocalError\u001b[0m: local variable 'mils' referenced before assignment"
     ]
    }
   ],
   "source": [
    "def do_test(input, expected):\n",
    "    func = RomanNumerals.to_roman if type(input) is int else RomanNumerals.from_roman\n",
    "    actual = func(input)\n",
    "    test.assert_equals(actual, expected, f'testing {func.__name__}, for input {input}\\n')\n",
    "\n",
    "def fixed_tests_to():\n",
    "    do_test(1000, 'M')\n",
    "    do_test(4, 'IV')\n",
    "    do_test(1, 'I')\n",
    "    do_test(1990, 'MCMXC')\n",
    "    do_test(2008, 'MMVIII')\n",
    "\n",
    "def fixed_tests_from():\n",
    "    do_test('XXI', 21)\n",
    "    do_test('I', 1)\n",
    "    do_test('IV', 4)\n",
    "    do_test('MMVIII', 2008)\n",
    "    do_test('MDCLXVI', 1666)\n",
    "\n",
    "fixed_tests_to()\n",
    "fixed_tests_from()\n",
    "    "
   ]
  },
  {
   "cell_type": "code",
   "execution_count": 22,
   "metadata": {},
   "outputs": [
    {
     "name": "stdout",
     "output_type": "stream",
     "text": [
      "he601low2u4atim\n"
     ]
    }
   ],
   "source": [
    "# triA = [\n",
    "#     [1,2,3],\n",
    "#     [4,5,6],\n",
    "#     [7,8,9],\n",
    "#     [10,11,12],\n",
    "#     [13,14,15],\n",
    "#     [16,17,18],\n",
    "#     [19,20,21]\n",
    "# ]\n",
    "# trio = [\n",
    "#     [4,5,6],\n",
    "#     [10,11,12],\n",
    "#     [1,2,3]\n",
    "# ]\n",
    "\n",
    "# for tri in trio:\n",
    "#     print(tri)\n",
    "#     index = triA.index(tri)\n",
    "#     aux1 = triA[:index]\n",
    "#     #print(aux1)\n",
    "#     aux2 = triA[index+1:]\n",
    "#     #print(aux2)\n",
    "#     triA = aux1\n",
    "#     triA.extend(aux2)\n",
    "#     print(triA)\n",
    "# print(triA)\n",
    "a = 'helow2u4atim'\n",
    "index = a.index('el')+1\n",
    "aux1 = a[:index]\n",
    "aux2 = a[index:]\n",
    "res = aux1+'601'+aux2\n",
    "print(res)"
   ]
  },
  {
   "cell_type": "code",
   "execution_count": 4,
   "metadata": {},
   "outputs": [
    {
     "name": "stdout",
     "output_type": "stream",
     "text": [
      "1\n",
      "111111111\n",
      "14343\n",
      "Length of result: 1\n",
      "First 10 digits: 1...\n",
      "Last 10 digits: ...1\n"
     ]
    }
   ],
   "source": [
    "def sum_huge_numbers(num1: str, num2: str, chunk_size: int = 1000) -> str:\n",
    "    def process_chunk(s1: str, s2: str, carry: int) -> tuple[str, int]:\n",
    "        # Add two chunks and return result and carry\n",
    "        chunk_sum = str(int(s1 or '0') + int(s2 or '0') + carry)\n",
    "        if len(chunk_sum) > len(s1 or s2):\n",
    "            return chunk_sum[1:], int(chunk_sum[0])\n",
    "        return chunk_sum, 0\n",
    "\n",
    "    # Validate input\n",
    "    if not (num1.isdigit() and num2.isdigit()):\n",
    "        raise ValueError(\"Inputs must be numeric strings\")\n",
    "\n",
    "    # Reverse strings and pad shorter number\n",
    "    max_len = max(len(num1), len(num2))\n",
    "    num1 = num1.zfill(max_len)[::-1]\n",
    "    num2 = num2.zfill(max_len)[::-1]\n",
    "\n",
    "    # Process in chunks\n",
    "    result = []\n",
    "    carry = 0\n",
    "    \n",
    "    for i in range(0, max_len, chunk_size):\n",
    "        chunk1 = num1[i:i+chunk_size][::-1]\n",
    "        chunk2 = num2[i:i+chunk_size][::-1]\n",
    "        sum_chunk, carry = process_chunk(chunk1, chunk2, carry)\n",
    "        result.append(sum_chunk[::-1])\n",
    "    \n",
    "    if carry:\n",
    "        result.append(str(carry))\n",
    "\n",
    "    # Combine chunks and return\n",
    "    return (''.join(result)).lstrip('0')[::-1] or '0'\n",
    "\n",
    "# Test cases\n",
    "if __name__ == \"__main__\":\n",
    "    # Small test\n",
    "    print(sum_huge_numbers(\"999\", \"1\"))  # 1000\n",
    "    print(sum_huge_numbers(\"123456789\", \"987654321\"))  # 1111111110\n",
    "    print(sum_huge_numbers(\"6623\", \"7720\"))  # 14343\n",
    "    \n",
    "    # Large test\n",
    "    n1 = \"9\" * 10000\n",
    "    n2 = \"1\"\n",
    "    result = sum_huge_numbers(n1, n2)\n",
    "    print(f\"Length of result: {len(result)}\")\n",
    "    print(f\"First 10 digits: {result[:10]}...\")\n",
    "    print(f\"Last 10 digits: ...{result[-10:]}\")"
   ]
  },
  {
   "cell_type": "code",
   "execution_count": 1,
   "metadata": {},
   "outputs": [
    {
     "name": "stdout",
     "output_type": "stream",
     "text": [
      "18\n"
     ]
    }
   ],
   "source": [
    "from collections import Counter\n",
    "\n",
    "def xor_matrix_sum(n, m):\n",
    "    freq = Counter()\n",
    "\n",
    "    for i in range(n):\n",
    "        for j in range(m):\n",
    "            freq[i ^ j] += 1\n",
    "\n",
    "    return sum(x * count for x, count in freq.items())\n",
    "\n",
    "# Example usage\n",
    "n = 3\n",
    "m = 4\n",
    "print(xor_matrix_sum(n, m))"
   ]
  },
  {
   "cell_type": "code",
   "execution_count": 2,
   "metadata": {},
   "outputs": [
    {
     "ename": "KeyboardInterrupt",
     "evalue": "",
     "output_type": "error",
     "traceback": [
      "\u001b[1;31m---------------------------------------------------------------------------\u001b[0m",
      "\u001b[1;31mKeyboardInterrupt\u001b[0m                         Traceback (most recent call last)",
      "Cell \u001b[1;32mIn[2], line 43\u001b[0m\n\u001b[0;32m     41\u001b[0m m \u001b[38;5;241m=\u001b[39m \u001b[38;5;241m10\u001b[39m\u001b[38;5;241m*\u001b[39m\u001b[38;5;241m*\u001b[39m\u001b[38;5;241m6\u001b[39m\n\u001b[0;32m     42\u001b[0m l \u001b[38;5;241m=\u001b[39m \u001b[38;5;241m100\u001b[39m\n\u001b[1;32m---> 43\u001b[0m \u001b[38;5;28mprint\u001b[39m(\u001b[43mxor_matrix_sum_optimized\u001b[49m\u001b[43m(\u001b[49m\u001b[43mn\u001b[49m\u001b[43m,\u001b[49m\u001b[43m \u001b[49m\u001b[43mm\u001b[49m\u001b[43m,\u001b[49m\u001b[43m \u001b[49m\u001b[43ml\u001b[49m\u001b[43m)\u001b[49m)\n",
      "Cell \u001b[1;32mIn[2], line 31\u001b[0m, in \u001b[0;36mxor_matrix_sum_optimized\u001b[1;34m(n, m, l)\u001b[0m\n\u001b[0;32m     29\u001b[0m     j \u001b[38;5;241m=\u001b[39m i \u001b[38;5;241m^\u001b[39m x\n\u001b[0;32m     30\u001b[0m     \u001b[38;5;28;01mif\u001b[39;00m j \u001b[38;5;241m<\u001b[39m m:\n\u001b[1;32m---> 31\u001b[0m         count \u001b[38;5;241m+\u001b[39m\u001b[38;5;241m=\u001b[39m \u001b[38;5;241m1\u001b[39m\n\u001b[0;32m     33\u001b[0m \u001b[38;5;28;01mif\u001b[39;00m count:\n\u001b[0;32m     34\u001b[0m     val \u001b[38;5;241m=\u001b[39m \u001b[38;5;28mmax\u001b[39m(\u001b[38;5;241m0\u001b[39m, x \u001b[38;5;241m-\u001b[39m l)\n",
      "\u001b[1;31mKeyboardInterrupt\u001b[0m: "
     ]
    }
   ],
   "source": [
    "def xor_matrix_sum_optimized(n, m, l):\n",
    "    max_val = n | m  # upper bound for possible xor values\n",
    "    seen = set()\n",
    "    total = 0\n",
    "\n",
    "    for x in range(max(n, m) * 2):  # xor can go up to (n-1) ^ (m-1)\n",
    "        # Count how many i ∈ [0, n-1] such that j = i ^ x ∈ [0, m-1]\n",
    "        # i must be in [0, n-1]\n",
    "        # j = i ^ x ⇒ j ∈ [0, m-1] ⇒ i ^ x ∈ [0, m-1] ⇒ i ∈ [x ^ 0, x ^ (m-1)]\n",
    "        # So for i in [0, n-1], and j = i ^ x in [0, m-1], count valid i's.\n",
    "\n",
    "        # i = 0 to n-1\n",
    "        # j = i ^ x → j must be in 0..m-1 ⇒ i ^ x < m ⇒ i < m ^ x\n",
    "        # So we check how many valid i in range [0, n) such that i ^ x < m\n",
    "\n",
    "        low = max(0, x - m + 1)\n",
    "        high = min(n - 1, x)  # i ≤ x ⇒ j = i ^ x ≤ x\n",
    "\n",
    "        # Better way: iterate i ∈ [0, n)\n",
    "        count = 0\n",
    "        if x in seen:\n",
    "            continue\n",
    "        seen.add(x)\n",
    "\n",
    "        # i ∈ [0, n), j = i ^ x ⇒ j ∈ [0, m)\n",
    "        # ⇒ i ^ x < m ⇒ i < m ^ x\n",
    "        # So we check:\n",
    "        for i in range(max(0, x - m + 1), min(n, x + 1)):\n",
    "            j = i ^ x\n",
    "            if j < m:\n",
    "                count += 1\n",
    "\n",
    "        if count:\n",
    "            val = max(0, x - l)\n",
    "            total += val * count\n",
    "\n",
    "    return total\n",
    "\n",
    "# Example\n",
    "n = 10**6\n",
    "m = 10**6\n",
    "l = 100\n",
    "print(xor_matrix_sum_optimized(n, m, l))"
   ]
  },
  {
   "cell_type": "code",
   "execution_count": 6,
   "metadata": {},
   "outputs": [
    {
     "name": "stdout",
     "output_type": "stream",
     "text": [
      "Input: (['2', '3'], ['3', '4'])\n",
      "Result: ['23', '24', '33', '34']\n",
      "Correct: True\n",
      "\n",
      "Input: (['a', 'b'], ['1', '2'], ['x'])\n",
      "Result: ['a1x', 'a2x', 'b1x', 'b2x']\n",
      "Correct: True\n",
      "\n",
      "Input: (['1'], ['2'], ['3'])\n",
      "Result: ['123']\n",
      "Correct: True\n",
      "\n",
      "Input: ([], [])\n",
      "Result: []\n",
      "Correct: True\n",
      "\n"
     ]
    }
   ],
   "source": [
    "from itertools import product\n",
    "from typing import List\n",
    "\n",
    "def combine_string_arrays(*arrays: List[str]) -> List[str]:\n",
    "    \"\"\"\n",
    "    Combines arrays of strings by concatenating all possible combinations\n",
    "    \n",
    "    Example:\n",
    "        ['2','3'], ['3','4'] -> ['23','24','33','34']\n",
    "    \"\"\"\n",
    "    if not arrays:\n",
    "        return []\n",
    "        \n",
    "    # Generate combinations and join each tuple\n",
    "    return [''.join(combo) for combo in product(*arrays)]\n",
    "\n",
    "def test_combinations():\n",
    "    # Test cases\n",
    "    test_cases = [\n",
    "        ((['2','3'], ['3','4']), ['23','24','33','34']),\n",
    "        ((['a','b'], ['1','2'], ['x']), ['a1x','a2x','b1x','b2x']),\n",
    "        ((['1'], ['2'], ['3']), ['123']),\n",
    "        (([], []), [])\n",
    "    ]\n",
    "    \n",
    "    for (inputs, expected) in test_cases:\n",
    "        result = combine_string_arrays(*inputs)\n",
    "        print(f\"Input: {inputs}\")\n",
    "        print(f\"Result: {result}\")\n",
    "        print(f\"Correct: {result == expected}\\n\")\n",
    "\n",
    "if __name__ == \"__main__\":\n",
    "    test_combinations()"
   ]
  },
  {
   "cell_type": "code",
   "execution_count": 5,
   "metadata": {},
   "outputs": [
    {
     "name": "stdout",
     "output_type": "stream",
     "text": [
      "372886774209247102729280\n"
     ]
    }
   ],
   "source": [
    "def xor_matrix_sum_fast(n, m, l):\n",
    "    from collections import Counter\n",
    "\n",
    "    freq = Counter()\n",
    "\n",
    "    # The number of times each x = i ^ j appears is:\n",
    "    # For each i in 0..n-1, x = i ^ j => j = i ^ x\n",
    "    # So for each x, the number of valid (i, j) pairs is:\n",
    "    # number of i such that j = i ^ x < m, i < n\n",
    "    # i.e., j = i ^ x < m => i ^ x < m => i < m ^ x\n",
    "    # and i < n\n",
    "    # So we can count how many i satisfy that.\n",
    "\n",
    "    max_x = 1 << max(n.bit_length(), m.bit_length())\n",
    "\n",
    "    for x in range(max_x):\n",
    "        # Count i in range [0, n) such that i ^ x < m\n",
    "        count = 0\n",
    "        # Let’s count for i in [0, n):\n",
    "        # i ^ x < m  => i < m ^ x\n",
    "        # i must be < n\n",
    "        limit = min(n, m ^ x)\n",
    "        if limit > 0:\n",
    "            count = limit\n",
    "        freq[x] = count\n",
    "\n",
    "    total = 0\n",
    "    for x, count in freq.items():\n",
    "        val = max(0, x - l)\n",
    "        total += val * count\n",
    "\n",
    "    return total\n",
    "\n",
    "# Example\n",
    "print(xor_matrix_sum_fast(10**8, 10**8, 10**7))"
   ]
  },
  {
   "cell_type": "code",
   "execution_count": 1,
   "metadata": {},
   "outputs": [
    {
     "name": "stdout",
     "output_type": "stream",
     "text": [
      "t\n"
     ]
    }
   ],
   "source": [
    "s = 'rtf'\n",
    "print(s[1])"
   ]
  }
 ],
 "metadata": {
  "kernelspec": {
   "display_name": ".venv",
   "language": "python",
   "name": "python3"
  },
  "language_info": {
   "codemirror_mode": {
    "name": "ipython",
    "version": 3
   },
   "file_extension": ".py",
   "mimetype": "text/x-python",
   "name": "python",
   "nbconvert_exporter": "python",
   "pygments_lexer": "ipython3",
   "version": "3.9.12"
  }
 },
 "nbformat": 4,
 "nbformat_minor": 2
}
